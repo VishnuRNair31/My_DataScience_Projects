{
 "cells": [
  {
   "cell_type": "code",
   "execution_count": 1,
   "metadata": {},
   "outputs": [],
   "source": [
    "import os\n",
    "import shutil\n",
    "from tqdm.notebook import tqdm"
   ]
  },
  {
   "cell_type": "code",
   "execution_count": 3,
   "metadata": {},
   "outputs": [],
   "source": [
    "train_img_path=\"final_dataset/images/train/\"     \n",
    "train_lbl_path=\"final_dataset/labels/train/\"\n",
    "val_img_path=\"final_dataset/images/val/\"    \n",
    "val_lbl_path=\"final_dataset/labels/val/\""
   ]
  },
  {
   "cell_type": "code",
   "execution_count": 4,
   "metadata": {},
   "outputs": [],
   "source": [
    "def train_test_split(path,split=0.2):\n",
    "    files=list([name[:-4] for name in os.listdir(path+\"images\")])\n",
    "    # print(len(files))\n",
    "    test_size=int(len(files)*split)\n",
    "    train_size=len(files)-test_size\n",
    "    \n",
    "    #creating directories\n",
    "    os.makedirs(train_img_path,exist_ok=True)\n",
    "    os.makedirs(train_lbl_path,exist_ok=True)\n",
    "    os.makedirs(val_img_path,exist_ok=True)\n",
    "    os.makedirs(val_lbl_path,exist_ok=True)\n",
    "\n",
    "    for file in tqdm(files[:train_size]):\n",
    "      shutil.copy2(path+\"images\\\\\"+file+\".jpg\",train_img_path+file+\".jpg\") \n",
    "      shutil.copy2(path+\"labels\\\\\"+file+\".txt\",train_lbl_path+file+\".txt\")\n",
    "\n",
    "    for file in tqdm(files[train_size:]):\n",
    "      shutil.copy2(path+\"images\\\\\"+file+\".jpg\",val_img_path+file+\".jpg\")\n",
    "      shutil.copy2(path+\"labels\\\\\"+file+\".txt\",val_lbl_path+file+\".txt\")"
   ]
  },
  {
   "cell_type": "code",
   "execution_count": null,
   "metadata": {},
   "outputs": [],
   "source": [
    "train_test_split(\"train\\\\\")"
   ]
  }
 ],
 "metadata": {
  "kernelspec": {
   "display_name": "Python 3",
   "language": "python",
   "name": "python3"
  },
  "language_info": {
   "codemirror_mode": {
    "name": "ipython",
    "version": 3
   },
   "file_extension": ".py",
   "mimetype": "text/x-python",
   "name": "python",
   "nbconvert_exporter": "python",
   "pygments_lexer": "ipython3",
   "version": "3.11.7"
  }
 },
 "nbformat": 4,
 "nbformat_minor": 2
}
